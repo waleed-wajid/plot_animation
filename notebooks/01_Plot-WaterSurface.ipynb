{
 "cells": [
  {
   "cell_type": "code",
   "execution_count": 5,
   "metadata": {},
   "outputs": [],
   "source": [
    "%config IPCompleter.greedy=True\n",
    "%matplotlib inline\n",
    "%load_ext autoreload\n",
    "%autoreload 2"
   ]
  },
  {
   "cell_type": "code",
   "execution_count": 6,
   "metadata": {},
   "outputs": [],
   "source": [
    "import pandas as pd\n",
    "import os \n",
    "import sys\n",
    "import numpy as np\n",
    "import matplotlib.pyplot as plt"
   ]
  },
  {
   "cell_type": "code",
   "execution_count": 7,
   "metadata": {},
   "outputs": [
    {
     "name": "stdout",
     "output_type": "stream",
     "text": [
      "/home/waleed/projects/plot_animation\n"
     ]
    }
   ],
   "source": [
    "proj_dir = os.path.dirname(os.getcwd())\n",
    "print(proj_dir)\n",
    "\n",
    "sys.path.append(proj_dir)"
   ]
  },
  {
   "cell_type": "code",
   "execution_count": 23,
   "metadata": {},
   "outputs": [
    {
     "data": {
      "text/plain": [
       "'/home/waleed/anaconda3/bin/python'"
      ]
     },
     "execution_count": 23,
     "metadata": {},
     "output_type": "execute_result"
    }
   ],
   "source": [
    "sys.executable"
   ]
  },
  {
   "cell_type": "code",
   "execution_count": 8,
   "metadata": {},
   "outputs": [],
   "source": [
    "data = pd.read_csv(os.path.join(proj_dir, 'data', 'raw', '2021-05-01_Scotss-SL-data.csv'))"
   ]
  },
  {
   "cell_type": "code",
   "execution_count": 9,
   "metadata": {},
   "outputs": [
    {
     "data": {
      "text/html": [
       "<div>\n",
       "<style scoped>\n",
       "    .dataframe tbody tr th:only-of-type {\n",
       "        vertical-align: middle;\n",
       "    }\n",
       "\n",
       "    .dataframe tbody tr th {\n",
       "        vertical-align: top;\n",
       "    }\n",
       "\n",
       "    .dataframe thead th {\n",
       "        text-align: right;\n",
       "    }\n",
       "</style>\n",
       "<table border=\"1\" class=\"dataframe\">\n",
       "  <thead>\n",
       "    <tr style=\"text-align: right;\">\n",
       "      <th></th>\n",
       "      <th>EVENT_TIME</th>\n",
       "      <th>SL_DEPTH</th>\n",
       "      <th>DSL_VAL</th>\n",
       "      <th>FLOW_VAL</th>\n",
       "      <th>G1_ELEVATION</th>\n",
       "      <th>USL_VAL</th>\n",
       "      <th>hu</th>\n",
       "      <th>hd</th>\n",
       "      <th>Cd</th>\n",
       "      <th>Q_MI</th>\n",
       "      <th>...</th>\n",
       "      <th>Vc</th>\n",
       "      <th>V</th>\n",
       "      <th>h</th>\n",
       "      <th>G1_ANGLE</th>\n",
       "      <th>Vg_hor</th>\n",
       "      <th>Cc</th>\n",
       "      <th>Vg_d</th>\n",
       "      <th>DDSL_VAL</th>\n",
       "      <th>HL</th>\n",
       "      <th>WS</th>\n",
       "    </tr>\n",
       "  </thead>\n",
       "  <tbody>\n",
       "    <tr>\n",
       "      <th>0</th>\n",
       "      <td>2021-02-05 03:15:00</td>\n",
       "      <td>0.409</td>\n",
       "      <td>8.881340</td>\n",
       "      <td>129.574700</td>\n",
       "      <td>8.943</td>\n",
       "      <td>9.262330</td>\n",
       "      <td>0.319330</td>\n",
       "      <td>0.0</td>\n",
       "      <td>0.73</td>\n",
       "      <td>1.457943</td>\n",
       "      <td>...</td>\n",
       "      <td>0.192645</td>\n",
       "      <td>0.101837</td>\n",
       "      <td>-0.026035</td>\n",
       "      <td>35.276942</td>\n",
       "      <td>0.994462</td>\n",
       "      <td>0.703535</td>\n",
       "      <td>1.731470</td>\n",
       "      <td>9.273757</td>\n",
       "      <td>-0.032582</td>\n",
       "      <td>-0.000009</td>\n",
       "    </tr>\n",
       "    <tr>\n",
       "      <th>1</th>\n",
       "      <td>2021-02-06 01:00:00</td>\n",
       "      <td>0.385</td>\n",
       "      <td>8.849406</td>\n",
       "      <td>139.985300</td>\n",
       "      <td>8.965</td>\n",
       "      <td>9.300815</td>\n",
       "      <td>0.335815</td>\n",
       "      <td>0.0</td>\n",
       "      <td>0.73</td>\n",
       "      <td>1.572286</td>\n",
       "      <td>...</td>\n",
       "      <td>0.213150</td>\n",
       "      <td>0.104635</td>\n",
       "      <td>-0.033969</td>\n",
       "      <td>36.137329</td>\n",
       "      <td>1.008860</td>\n",
       "      <td>0.704115</td>\n",
       "      <td>1.774141</td>\n",
       "      <td>9.251174</td>\n",
       "      <td>-0.023233</td>\n",
       "      <td>-0.000006</td>\n",
       "    </tr>\n",
       "    <tr>\n",
       "      <th>2</th>\n",
       "      <td>2021-02-06 22:45:00</td>\n",
       "      <td>0.394</td>\n",
       "      <td>8.861156</td>\n",
       "      <td>145.365250</td>\n",
       "      <td>8.967</td>\n",
       "      <td>9.314533</td>\n",
       "      <td>0.347533</td>\n",
       "      <td>0.0</td>\n",
       "      <td>0.73</td>\n",
       "      <td>1.655294</td>\n",
       "      <td>...</td>\n",
       "      <td>0.222278</td>\n",
       "      <td>0.108054</td>\n",
       "      <td>-0.031219</td>\n",
       "      <td>36.216011</td>\n",
       "      <td>1.025280</td>\n",
       "      <td>0.704164</td>\n",
       "      <td>1.804703</td>\n",
       "      <td>9.259040</td>\n",
       "      <td>-0.027117</td>\n",
       "      <td>-0.000007</td>\n",
       "    </tr>\n",
       "    <tr>\n",
       "      <th>3</th>\n",
       "      <td>2021-02-07 11:15:00</td>\n",
       "      <td>0.392</td>\n",
       "      <td>8.861838</td>\n",
       "      <td>132.715700</td>\n",
       "      <td>9.024</td>\n",
       "      <td>9.343604</td>\n",
       "      <td>0.319604</td>\n",
       "      <td>0.0</td>\n",
       "      <td>0.73</td>\n",
       "      <td>1.459816</td>\n",
       "      <td>...</td>\n",
       "      <td>0.195921</td>\n",
       "      <td>0.093215</td>\n",
       "      <td>-0.028537</td>\n",
       "      <td>38.493323</td>\n",
       "      <td>0.953831</td>\n",
       "      <td>0.705309</td>\n",
       "      <td>1.727855</td>\n",
       "      <td>9.259974</td>\n",
       "      <td>-0.026863</td>\n",
       "      <td>-0.000007</td>\n",
       "    </tr>\n",
       "    <tr>\n",
       "      <th>4</th>\n",
       "      <td>2021-02-07 20:30:00</td>\n",
       "      <td>0.376</td>\n",
       "      <td>8.864019</td>\n",
       "      <td>90.364664</td>\n",
       "      <td>9.103</td>\n",
       "      <td>9.352092</td>\n",
       "      <td>0.249092</td>\n",
       "      <td>0.0</td>\n",
       "      <td>0.73</td>\n",
       "      <td>1.004430</td>\n",
       "      <td>...</td>\n",
       "      <td>0.134568</td>\n",
       "      <td>0.065806</td>\n",
       "      <td>-0.010357</td>\n",
       "      <td>41.775161</td>\n",
       "      <td>0.802348</td>\n",
       "      <td>0.706122</td>\n",
       "      <td>1.523634</td>\n",
       "      <td>9.267686</td>\n",
       "      <td>-0.021333</td>\n",
       "      <td>-0.000006</td>\n",
       "    </tr>\n",
       "  </tbody>\n",
       "</table>\n",
       "<p>5 rows × 24 columns</p>\n",
       "</div>"
      ],
      "text/plain": [
       "            EVENT_TIME  SL_DEPTH   DSL_VAL    FLOW_VAL  G1_ELEVATION  \\\n",
       "0  2021-02-05 03:15:00     0.409  8.881340  129.574700         8.943   \n",
       "1  2021-02-06 01:00:00     0.385  8.849406  139.985300         8.965   \n",
       "2  2021-02-06 22:45:00     0.394  8.861156  145.365250         8.967   \n",
       "3  2021-02-07 11:15:00     0.392  8.861838  132.715700         9.024   \n",
       "4  2021-02-07 20:30:00     0.376  8.864019   90.364664         9.103   \n",
       "\n",
       "    USL_VAL        hu   hd    Cd      Q_MI    ...           Vc         V  \\\n",
       "0  9.262330  0.319330  0.0  0.73  1.457943    ...     0.192645  0.101837   \n",
       "1  9.300815  0.335815  0.0  0.73  1.572286    ...     0.213150  0.104635   \n",
       "2  9.314533  0.347533  0.0  0.73  1.655294    ...     0.222278  0.108054   \n",
       "3  9.343604  0.319604  0.0  0.73  1.459816    ...     0.195921  0.093215   \n",
       "4  9.352092  0.249092  0.0  0.73  1.004430    ...     0.134568  0.065806   \n",
       "\n",
       "          h   G1_ANGLE    Vg_hor        Cc      Vg_d  DDSL_VAL        HL  \\\n",
       "0 -0.026035  35.276942  0.994462  0.703535  1.731470  9.273757 -0.032582   \n",
       "1 -0.033969  36.137329  1.008860  0.704115  1.774141  9.251174 -0.023233   \n",
       "2 -0.031219  36.216011  1.025280  0.704164  1.804703  9.259040 -0.027117   \n",
       "3 -0.028537  38.493323  0.953831  0.705309  1.727855  9.259974 -0.026863   \n",
       "4 -0.010357  41.775161  0.802348  0.706122  1.523634  9.267686 -0.021333   \n",
       "\n",
       "         WS  \n",
       "0 -0.000009  \n",
       "1 -0.000006  \n",
       "2 -0.000007  \n",
       "3 -0.000007  \n",
       "4 -0.000006  \n",
       "\n",
       "[5 rows x 24 columns]"
      ]
     },
     "execution_count": 9,
     "metadata": {},
     "output_type": "execute_result"
    }
   ],
   "source": [
    "data.head()"
   ]
  },
  {
   "cell_type": "code",
   "execution_count": 10,
   "metadata": {},
   "outputs": [],
   "source": [
    "from src.plotting import plot_sample"
   ]
  },
  {
   "cell_type": "code",
   "execution_count": 15,
   "metadata": {},
   "outputs": [
    {
     "data": {
      "image/png": "[encoded data removed]",
      "text/plain": [
       "<Figure size 1152x432 with 1 Axes>"
      ]
     },
     "metadata": {},
     "output_type": "display_data"
    }
   ],
   "source": [
    "fig, ax = plt.subplots(figsize=(16,6))\n",
    "\n",
    "sample = data.iloc[120]\n",
    "\n",
    "plot_sample(ax, sample)\n",
    "\n",
    "plt.show()"
   ]
  },
  {
   "cell_type": "code",
   "execution_count": 21,
   "metadata": {},
   "outputs": [],
   "source": [
    "from celluloid import Camera\n",
    "from time import sleep"
   ]
  },
  {
   "cell_type": "code",
   "execution_count": 25,
   "metadata": {},
   "outputs": [],
   "source": [
    "fig, ax = plt.subplots(figsize=(16,6))\n",
    "camera = Camera(fig)\n",
    "\n",
    "for i in range(len(data)):\n",
    "    plot_sample(ax, data.iloc[i])\n",
    "    plt.legend([f'Q = {data.iloc[i].Q_MI:.2f} m3/s'])\n",
    "    camera.snap()\n",
    "#     sleep(1)\n",
    "animation = camera.animate()\n",
    "animation.save(os.path.join(proj_dir, 'reports', 'ws_elev.gif'), writer = 'imagemagick')\n",
    "# animation.save(os.path.join(proj_dir, 'reports', 'ws_elev.mp4'))"
   ]
  }
 ],
 "metadata": {
  "kernelspec": {
   "display_name": "Python 3",
   "language": "python",
   "name": "python3"
  },
  "language_info": {
   "codemirror_mode": {
    "name": "ipython",
    "version": 3
   },
   "file_extension": ".py",
   "mimetype": "text/x-python",
   "name": "python",
   "nbconvert_exporter": "python",
   "pygments_lexer": "ipython3",
   "version": "3.6.5"
  }
 },
 "nbformat": 4,
 "nbformat_minor": 2
}
